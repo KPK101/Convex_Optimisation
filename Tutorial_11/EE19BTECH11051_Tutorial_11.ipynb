{
 "cells": [
  {
   "cell_type": "markdown",
   "id": "soviet-scheme",
   "metadata": {},
   "source": [
    "# Tutorial 11\n",
    "\n",
    "# EE19BTECH11051 - Pranav Kumar Kota"
   ]
  },
  {
   "cell_type": "code",
   "execution_count": 1,
   "id": "unavailable-current",
   "metadata": {},
   "outputs": [],
   "source": [
    "import numpy as np\n",
    "import matplotlib.pyplot as plt\n",
    "import scipy.io # to load matfiles\n",
    "from scipy.io import loadmat\n",
    "import cvxpy as cp\n"
   ]
  },
  {
   "cell_type": "markdown",
   "id": "collaborative-selection",
   "metadata": {},
   "source": [
    "## Extract data from mat file\n",
    "\n",
    "Data can be found \n",
    "<a href=\"https://github.com/KPK101/Convex_Optimisation/blob/main/Tutorial_11/sp_ln_sp_data_v5.mat\" title=\"Wikipedia\">here</a>"
   ]
  },
  {
   "cell_type": "code",
   "execution_count": 2,
   "id": "sized-examination",
   "metadata": {},
   "outputs": [],
   "source": [
    "# Load data from saved mat file\n",
    "matdir = 'sp_ln_sp_data_v5.mat' # file directory \n",
    "mat = loadmat(matdir)\n",
    "\n",
    "# Extract data\n",
    "M = int(mat['M'])\n",
    "n = int(mat['n'])\n",
    "N = int(mat['N'])\n",
    "X = mat['X']\n",
    "Y = mat['Y']"
   ]
  },
  {
   "cell_type": "markdown",
   "id": "advanced-medicare",
   "metadata": {},
   "source": [
    "## L1 Regularisation for downsizing feature space \n",
    "L1 regularisation promotes sparsity of the parameter vector (a, in this case). Therefore, it results in redundancy in input data, as the features corresponding to the indices with value as 0 have no effect on the optimisation problem"
   ]
  },
  {
   "cell_type": "code",
   "execution_count": 3,
   "id": "pursuant-semester",
   "metadata": {},
   "outputs": [],
   "source": [
    "lamda = np.logspace(-6,5,100)\n",
    "    \n",
    "def card(a): # return card(a)\n",
    "    numcard = 0\n",
    "    a = a.reshape(-1,1)\n",
    "    for i in range(a.size):\n",
    "        if(a[i]>1e-04):\n",
    "            numcard += 1\n",
    "    return numcard\n",
    "\n",
    "def cardvec(a): # returns vector with 1's at index of non-zero values in a\n",
    "    shape = np.shape(a.reshape(-1,1))\n",
    "    aa = np.zeros(shape)\n",
    "    for i in range(shape[0]):\n",
    "        if(a[i]>1e-04):\n",
    "            aa[i] = 1\n",
    "    return aa\n",
    "\n",
    "def norm(a): # 2 norm of the input vector\n",
    "    return np.sqrt(sum(a*a))\n",
    "\n",
    "def optimize_a(lamda,X,Y):\n",
    "    \n",
    "    # size parameters\n",
    "    n = X.shape[0]\n",
    "    N = X.shape[1]\n",
    "    M = Y.shape[1]\n",
    "\n",
    "    numlam = lamda.size\n",
    "    slabThickness = np.zeros(numlam)\n",
    "    card_a = np.zeros(numlam)\n",
    "    card_vec = np.zeros((numlam,n))\n",
    "\n",
    "    # Looping over lambda\n",
    "    for i in range(numlam): # loop to compute cardinality and min_norm2 a\n",
    "        \n",
    "        l = lamda[i]\n",
    "        a = cp.Variable((n,1))\n",
    "        b = cp.Variable(1)\n",
    "        \n",
    "        # Defining the optimization problem\n",
    "        objective = cp.Minimize(cp.norm(a,2) + l*cp.norm(a,1))\n",
    "        constraints  = [cp.transpose(a)@X - cp.multiply(b,np.ones((1,N))) >= 1]\n",
    "        constraints += [cp.transpose(a)@Y - cp.multiply(b,np.ones((1,M))) <= -1]\n",
    "        prob = cp.Problem(objective,constraints)\n",
    "        result = prob.solve()\n",
    "        \n",
    "        # Result for each lambda\n",
    "        slabThickness[i] = 2./norm(a.value)\n",
    "        card_a[i] = card(a.value)\n",
    "        card_vec[i] = cardvec(a.value).reshape(1,-1)\n",
    "        \n",
    "    return slabThickness,card_vec,card_a\n",
    "\n",
    "[slabThickness,card_vec,card_a] = optimize_a(lamda,X,Y)"
   ]
  },
  {
   "cell_type": "markdown",
   "id": "ranging-column",
   "metadata": {},
   "source": [
    " ## Comparing slab thickness and cardinality of a"
   ]
  },
  {
   "cell_type": "code",
   "execution_count": 4,
   "id": "intermediate-michigan",
   "metadata": {},
   "outputs": [
    {
     "data": {
      "image/png": "[encoded data removed]",
      "text/plain": [
       "<Figure size 432x288 with 1 Axes>"
      ]
     },
     "metadata": {
      "needs_background": "light"
     },
     "output_type": "display_data"
    }
   ],
   "source": [
    "plt.plot(card_a,slabThickness)\n",
    "plt.title(\"Comparision of slab thickness and sparsity\")\n",
    "plt.xlabel(\"$card(a)$\")\n",
    "plt.ylabel(\"$2/||a||_2$\")\n",
    "plt.show()"
   ]
  },
  {
   "cell_type": "markdown",
   "id": "future-bargain",
   "metadata": {},
   "source": [
    "We need a solution with a thick seperating slab for more robust classification.\n",
    "On the other hand, we also need more sparsity to have lesser number of features, but we don't want extreme downsizing as it will lead to loss of useful information.\n",
    "Therefore, we choose a pair in the centre."
   ]
  },
  {
   "cell_type": "code",
   "execution_count": 5,
   "id": "insured-jordan",
   "metadata": {},
   "outputs": [
    {
     "name": "stdout",
     "output_type": "stream",
     "text": [
      "Maximum thickness of seperating slab = 116.42440503377907\n"
     ]
    }
   ],
   "source": [
    "print(f\"Maximum thickness of seperating slab = {max(slabThickness)}\")"
   ]
  },
  {
   "cell_type": "code",
   "execution_count": 6,
   "id": "dependent-partner",
   "metadata": {},
   "outputs": [
    {
     "name": "stdout",
     "output_type": "stream",
     "text": [
      "For the chosen value of lambda:\n",
      "Cardinality is 13.0\n",
      "Slab thickness is 105.44936132614993\n",
      "The carinality vector for chosen lambda is:\n",
      "[1. 1. 0. 1. 0. 0. 0. 0. 1. 0. 1. 1. 1. 0. 0. 0. 0. 0. 0. 0. 0. 0. 0. 0.\n",
      " 1. 0. 0. 0. 0. 0. 0. 0. 0. 1. 0. 0. 0. 1. 0. 0. 0. 1. 0. 0. 1. 0. 0. 0.\n",
      " 0. 1.]\n"
     ]
    }
   ],
   "source": [
    "# Choosing lamda[50] as the optimal lambda\n",
    "optindex = 50\n",
    "print(f\"For the chosen value of lambda:\\nCardinality is {card_a[optindex]}\")\n",
    "print(f\"Slab thickness is {slabThickness[optindex]}\")\n",
    "print(f\"The carinality vector for chosen lambda is:\\n{card_vec[optindex]}\")"
   ]
  },
  {
   "cell_type": "markdown",
   "id": "olympic-defensive",
   "metadata": {},
   "source": [
    "## Optimal solution for chosen features\n",
    "\n",
    "We choose 10 features corresponding to ones in the cardinality vector for the optimum index"
   ]
  },
  {
   "cell_type": "code",
   "execution_count": 7,
   "id": "eleven-watson",
   "metadata": {},
   "outputs": [],
   "source": [
    "\n",
    "X_downsize = np.vstack((X[:2,:],X[3,:],X[8,:],X[10:13,:],X[24,:],X[33,:],X[37,:]))\n",
    "Y_downsize = np.vstack((Y[:2,:],X[3,:],Y[8,:],Y[10:13,:],Y[24,:],Y[33,:],Y[37,:]))\n",
    "\n",
    "NN = X_downsize.shape[1]\n",
    "MM = Y_downsize.shape[1]\n",
    "\n",
    "a = cp.Variable((10,1))\n",
    "b = cp.Variable(1)\n",
    "\n",
    "objective = cp.Minimize(cp.norm(a,2))\n",
    "constraints  = [cp.transpose(a)@X_downsize - cp.multiply(b,np.ones((1,NN))) >= 1]\n",
    "constraints += [cp.transpose(a)@Y_downsize - cp.multiply(b,np.ones((1,MM))) <= -1]\n",
    "prob = cp.Problem(objective,constraints)\n",
    "result = prob.solve()\n",
    "\n",
    "opt_norm = result\n",
    "opt_card = card(a.value)"
   ]
  },
  {
   "cell_type": "code",
   "execution_count": 8,
   "id": "orange-scope",
   "metadata": {
    "scrolled": true
   },
   "outputs": [
    {
     "name": "stdout",
     "output_type": "stream",
     "text": [
      "Optimal slab thickness is 0.052244935843155406\n",
      "Optimal cardinality is 10\n"
     ]
    }
   ],
   "source": [
    "print(f\"Optimal slab thickness is {opt_norm}\")\n",
    "print(f\"Optimal cardinality is {opt_card}\")"
   ]
  }
 ],
 "metadata": {
  "kernelspec": {
   "display_name": "Python 3 (ipykernel)",
   "language": "python",
   "name": "python3"
  },
  "language_info": {
   "codemirror_mode": {
    "name": "ipython",
    "version": 3
   },
   "file_extension": ".py",
   "mimetype": "text/x-python",
   "name": "python",
   "nbconvert_exporter": "python",
   "pygments_lexer": "ipython3",
   "version": "3.9.10"
  }
 },
 "nbformat": 4,
 "nbformat_minor": 5
}
